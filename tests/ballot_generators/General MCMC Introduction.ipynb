{
 "cells": [
  {
   "cell_type": "markdown",
   "id": "0bd20e3d-8c4f-422e-b504-afe6c37f791a",
   "metadata": {},
   "source": [
    "## Metropolis-Hastings Background w/ Name Bradley-Terry "
   ]
  },
  {
   "cell_type": "markdown",
   "id": "13b93f91-00c0-4ca8-a980-b1e8e5d6372c",
   "metadata": {},
   "source": [
    "Metropolis-Hastings is a sampling technique for MCMC that is often used when we start running into some problems: \n",
    "\n",
    "1. **Direct sampling is hard**. Continuous distributions have methods, such as the inverse CDF method or rejection sampling, that allow for direct sampling for these distributions. However, cases where the CDF doesn't have a nice close form inverse, high rejection rate, or combinatorial explosion of the state space require the need for indirect sampling. \n",
    "2. **Distributions with normalizing constants that are hard to calculate.** Metropolis-Hastings causes normalizing constants to cancel. \n",
    "\n",
    "In the case for Bradley-Terry, we have the case that CDF (and hence the inverse CDF) doesn't have a nice closed form and the state space combinatorially explodes (for $n$ candidates, there are $n!$ complete ballots to generate). "
   ]
  },
  {
   "cell_type": "markdown",
   "id": "93ff5426-78d0-4677-ae07-55066a2dda74",
   "metadata": {},
   "source": [
    "In general, here's how the Metropolis-Hastings Algorithm work: \n",
    "\n",
    "**The Metropolis Hastings Algorithm** \n",
    "\n",
    "1. From state $x$, produce a new state $x'$\n",
    "2. Accept the new state with acceptance ratio\n",
    "$$\n",
    "\\alpha = \\text{min}\\left(1, \\frac{q(x\\, |\\, x') \\pi (x')}{q(x'\\, |\\, x) \\pi(x)}\\right)\n",
    "$$\n",
    "where $q( \\cdot \\, |\\, \\square)$ is the probability from transitioning from state $\\square$ to $\\cdot$ and $\\pi(\\square)$ is the probability of seeing $\\square$ under the stationary distribution $\\pi$. Note that $\\pi$ is the distribution we want to target. \n",
    "3. Go back to step $1$ and repeat until convergence.\n",
    "\n",
    "It's known that as long as $q$ is an irreducible transition matrix on the state space, that Metropolis-Hasting defines a reversible Markov Chain with stationary distribution $\\pi.$ For our case, let's consider a MH implementation that targets the stationary distribution for name Bradley-Terry. "
   ]
  },
  {
   "cell_type": "markdown",
   "id": "23d0e26c-966a-4396-b9c7-eb5f3a18d40d",
   "metadata": {},
   "source": [
    "Let's consider $n=3$ candidates where we have candidates $\\mathcal{C} = \\{A, B, C\\}$ where they have preference intervals $a + b + c = 1$. Let's consider the ballot $ABC$. The probability of seeing the ballot $ABC$ under Bradley-Terry is given by \n",
    "$$\n",
    "\\mathbb{P}_{\\text{BT}}\\left( \\begin{matrix}\n",
    "A \\\\ \n",
    "B \\\\ \n",
    "C\n",
    "\\end{matrix}\\right) \\propto \\mathbb{P}(A \\prec B) \\mathbb{P}(A \\prec C) \\mathbb{P}(B \\prec C)\n",
    "$$\n",
    "where $I \\prec J$ means that $I$ ranks higher than $J$ and its probability is given by $\\mathbb{P}(I \\prec J) = i / (i + j)$ where $i$ and $j$ are the respective preference intervals. Hence, the above becomes \n",
    "$$\n",
    "\\mathbb{P}_{\\text{BT}}\\left( \\begin{matrix}\n",
    "A \\\\ \n",
    "B \\\\ \n",
    "C\n",
    "\\end{matrix}\\right) \\propto \\frac{a}{a+b} \\frac{a}{a+c} \\frac{b}{b+c}.\n",
    "$$\n",
    "Notice that this proability is proportional as it may not be the case that summing over all $3!$ probabilites equal 1. Hence, for this probability to become equality, we must have \n",
    "$$\n",
    "\\mathbb{P}_{\\text{BT}}\\left( \\begin{matrix}\n",
    "A \\\\ \n",
    "B \\\\ \n",
    "C\n",
    "\\end{matrix}\\right) = \\frac{1}{Z} \\cdot \\frac{a}{a+b} \\frac{a}{a+c} \\frac{b}{b+c}\n",
    "$$\n",
    "where $Z = \\sum_{\\sigma \\in \\Omega} \\mathbb{P}_{\\text{BT}}(\\sigma)$ is the normalizing constant, where if we have $n$ candidates, then we will have $n!$ terms to sum and becomes computationally infeasible. Precomputing the PDF (to compute the CDF for the inverse CDF method), then becomes hard for large $n$. For large $n$, Metropolis-Hasting becomes a desirable sampling technique. "
   ]
  },
  {
   "cell_type": "markdown",
   "id": "18c440dc-4dae-47be-a204-2418ceb26b5f",
   "metadata": {},
   "source": [
    "We illustrate one example of the Metropolis-Hasting algorithm. The proposal method we use will be neighbor swaps, that is a new state/ballot is given by two adjacent ballots. Suppose our old state $x$ is given by $x = ABC$. Then we can swap $AB$ or $BC$, resulting in new ballots $x' = BCA$ or $x' = ACB$. If we pick uniformly, then we have a $1/2$ probability of each of the new ballots. This gives us the $q( \\cdot\\, | \\, \\cdot)$ probabilities. From the new state, to the old state, it holds that since our pick of proposal is uniform across the adjacent swaps that the probabilities is also $1/2$. \n",
    "\n",
    "For this example, suppose from ballot $ABC$ we propose the ballot $ACB$. Then, the transition probabilities from the new and old state are both $1/2$. That is to say, \n",
    "$$\n",
    "\\frac{q(x'\\,|\\,x)}{q(x\\,|\\,x')} = \\frac{1/2}{1/2} = 1\n",
    "$$\n",
    "In fact, for the uniform adjacent swaps the probilities are symmetric and thus cancel. \n",
    "Next, we need to calculate the probability of seeing these ballots under Bradley-Terry. Calculating $ACB$, we have, \n",
    "$$\n",
    "\\mathbb{P}_{BT}\\left( \n",
    "\\begin{matrix}\n",
    "A\\\\\n",
    "C\\\\\n",
    "B\n",
    "\\end{matrix}\n",
    "\\right) \\propto \\frac{a}{a+c} \\cdot \\frac{a}{a+b}\\cdot \\frac{c}{b+c}\n",
    "$$\n",
    "Then, we have \n",
    "$$\n",
    "\\frac{\\pi(x')}{\\pi(x)} = \\frac{\\mathbb{P}_{BT}\\left( \n",
    "\\begin{matrix}\n",
    "A\\\\\n",
    "C\\\\\n",
    "B\n",
    "\\end{matrix}\n",
    "\\right)}{\\mathbb{P}_{\\text{BT}}\\left( \\begin{matrix}\n",
    "A \\\\ \n",
    "B \\\\ \n",
    "C\n",
    "\\end{matrix}\\right)} = \\frac{c}{b}\n",
    "$$\n",
    "where the normalizing constant $Z$ canceled out with the additonal denominator of the form $(i + j)$ also canceled out as well, resulting in a quick computation of the ratio of the two preference profiles $c$ and $b$. That is to say, the acceptance ratio is given by \n",
    "$$\n",
    "\\alpha = \\text{min}\\left( 1, \\frac{c}{b} \\right).\n",
    "$$\n",
    "There are three cases to consider when we would like to accept or reject a proposal. \n",
    "\n",
    "*Case 1:* $\\frac{c}{b} > 1$ \n",
    "Then, we always accept. This means we did a swap where we had $c > b$, meaning the candidate with the higher preference moved up. This makes intuitive sense since we are moving up a candidate with a higher preference. \n",
    "\n",
    "*Case 2:* $\\frac{c}{b} < 1$\n",
    "There is some chance of rejection. This move means we have $c < b$, meaning we placed a candidate higher where the preference was actually lower.\n",
    "\n",
    "*Case 3:* $\\frac{c}{b}=1$\n",
    "Then, we always accept. We did a swap where the preference intervals were the same.\n"
   ]
  },
  {
   "cell_type": "markdown",
   "id": "6315ee89-2a64-4ca9-9828-a1aa2dfbfb33",
   "metadata": {},
   "source": [
    "Note that the proposal of doing random neighboring swaps is not the only way to do a random walk on the ballots. Picking how to do the walk is in of itself an art. One technique we have been experimenting on doing random transpositions that need not be adjacent. Details of experiments on the performance are detailed in a later section. "
   ]
  },
  {
   "cell_type": "markdown",
   "id": "8ee892a4-f5eb-4408-be6e-b16c9add8292",
   "metadata": {},
   "source": [
    "Below is a excerpt of the code where this process is outlined in Bradley-Terry. We loop through the chain length, with some neighboring swaps. The acceptance probability is exactly what we calculated above. Finally, the new proposal accepted based on what these ratios are. "
   ]
  },
  {
   "cell_type": "code",
   "execution_count": 68,
   "id": "a85aaa07-bd99-4625-abb0-e90b0a1b6506",
   "metadata": {},
   "outputs": [
    {
     "ename": "NameError",
     "evalue": "name 'chain_length' is not defined",
     "output_type": "error",
     "traceback": [
      "\u001b[0;31m---------------------------------------------------------------------------\u001b[0m",
      "\u001b[0;31mNameError\u001b[0m                                 Traceback (most recent call last)",
      "Cell \u001b[0;32mIn[68], line 2\u001b[0m\n\u001b[1;32m      1\u001b[0m \u001b[38;5;66;03m# generate MCMC sample\u001b[39;00m\n\u001b[0;32m----> 2\u001b[0m \u001b[38;5;28;01mfor\u001b[39;00m i \u001b[38;5;129;01min\u001b[39;00m \u001b[38;5;28mrange\u001b[39m(\u001b[43mchain_length\u001b[49m):\n\u001b[1;32m      3\u001b[0m     \u001b[38;5;66;03m# choose adjacent pair to propose a swap\u001b[39;00m\n\u001b[1;32m      4\u001b[0m     j1, j2 \u001b[38;5;241m=\u001b[39m swap_indices[i]\n\u001b[1;32m      5\u001b[0m     acceptance_prob \u001b[38;5;241m=\u001b[39m \u001b[38;5;28mmin\u001b[39m(\n\u001b[1;32m      6\u001b[0m         \u001b[38;5;241m1\u001b[39m,\n\u001b[1;32m      7\u001b[0m         pref_interval[\u001b[38;5;28mnext\u001b[39m(\u001b[38;5;28miter\u001b[39m(current_ranking[j2]))]\n\u001b[1;32m      8\u001b[0m         \u001b[38;5;241m/\u001b[39m pref_interval[\u001b[38;5;28mnext\u001b[39m(\u001b[38;5;28miter\u001b[39m(current_ranking[j1]))],\n\u001b[1;32m      9\u001b[0m     )\n",
      "\u001b[0;31mNameError\u001b[0m: name 'chain_length' is not defined"
     ]
    }
   ],
   "source": [
    "# generate MCMC sample\n",
    "for i in range(chain_length):\n",
    "    # choose adjacent pair to propose a swap\n",
    "    j1, j2 = swap_indices[i]\n",
    "    acceptance_prob = min(\n",
    "        1,\n",
    "        pref_interval[next(iter(current_ranking[j2]))]\n",
    "        / pref_interval[next(iter(current_ranking[j1]))],\n",
    "    )\n",
    "\n",
    "    # if you accept, make the swap\n",
    "    if random.random() < acceptance_prob:\n",
    "        current_ranking[j1], current_ranking[j2] = (\n",
    "            current_ranking[j2],\n",
    "            current_ranking[j1],\n",
    "        )\n",
    "        accept += 1"
   ]
  },
  {
   "cell_type": "markdown",
   "id": "37f3d3f5-d930-4dea-bdb7-0693e8210b0c",
   "metadata": {},
   "source": [
    "## Sample Bradley-Terry Metropolis-Hasting Runs"
   ]
  },
  {
   "cell_type": "markdown",
   "id": "c31eceab-6723-4f81-9de6-c71e6d3d9680",
   "metadata": {},
   "source": [
    "### Imports and Helper Functions"
   ]
  },
  {
   "cell_type": "code",
   "execution_count": 69,
   "id": "91f4ed50-e412-4b35-bc9e-3e6f3f2aa305",
   "metadata": {},
   "outputs": [
    {
     "name": "stdout",
     "output_type": "stream",
     "text": [
      "['/Users/ppeaungvongpakdy/Documents/Research/votekit_bt/VoteKit', '/Users/ppeaungvongpakdy/miniforge3/lib/python312.zip', '/Users/ppeaungvongpakdy/miniforge3/lib/python3.12', '/Users/ppeaungvongpakdy/miniforge3/lib/python3.12/lib-dynload', '', '/Users/ppeaungvongpakdy/miniforge3/lib/python3.12/site-packages', '/Users/ppeaungvongpakdy/choix', '/Users/ppeaungvongpakdy/miniforge3/lib/python3.12/site-packages/setuptools/_vendor']\n"
     ]
    }
   ],
   "source": [
    "# adjust the directory so that we can import local source\n",
    "import sys\n",
    "import os\n",
    "\n",
    "# Add the repo root to sys.path\n",
    "ROOT_REL_PATH_FROM_NB = \"../..\"\n",
    "repo_path = os.path.abspath(os.path.join(os.getcwd(), ROOT_REL_PATH_FROM_NB))  # adjust as needed\n",
    "if repo_path not in sys.path:\n",
    "    sys.path.insert(0, repo_path)\n",
    "\n",
    "print(sys.path)\n",
    "\n",
    "from src.votekit.ballot_generator import name_BradleyTerry \n",
    "from src.votekit.pref_interval import PreferenceInterval\n",
    "from src.votekit.pref_profile import PreferenceProfile\n",
    "import matplotlib.pyplot as plt\n",
    "import numpy as np\n",
    "from tqdm import tqdm\n",
    "from math import factorial"
   ]
  },
  {
   "cell_type": "code",
   "execution_count": 70,
   "id": "ce48fea5-aee5-4526-a3d5-589eeae2c14c",
   "metadata": {},
   "outputs": [],
   "source": [
    "def total_variation_distance(P, Q, labels):\n",
    "    sum = 0 \n",
    "    for x in labels:\n",
    "        sum += abs(P[x] - Q[x])\n",
    "    return (1/2)*sum\n",
    "\n",
    "def generate_BT_args(n_cands, alpha=1):\n",
    "    '''\n",
    "        generates arguments for name_BradleyTerry class\n",
    "        with n_cands, generates single slate and single bloc.\n",
    "    '''\n",
    "    if n_cands == 0:\n",
    "        raise Exception(\"cannot generate BT args for 0 candidates\")\n",
    "\n",
    "    #cands = [chr(ord('a')+i) for i in range(n_cands)] # alphabetic candidates\n",
    "    cands = [f\"Cand{i}\" for i in range(n_cands)]\n",
    "    bloc_name = \"H\"\n",
    "    pref_interval = PreferenceInterval.from_dirichlet(candidates=cands, alpha=alpha)\n",
    "    pref_intervals_by_bloc = {\n",
    "        bloc_name: {\n",
    "            bloc_name : pref_interval\n",
    "        }\n",
    "    }\n",
    "    bloc_voter_prop = {bloc_name: 1}\n",
    "    cohesion_paramteters = {\n",
    "        bloc_name: {\n",
    "            bloc_name: 1\n",
    "        }\n",
    "    }\n",
    "    \n",
    "    return {\n",
    "        \"candidates\": cands,\n",
    "        \"pref_intervals_by_bloc\": pref_intervals_by_bloc,\n",
    "        \"bloc_voter_prop\" : bloc_voter_prop,\n",
    "        \"cohesion_parameters\": cohesion_paramteters\n",
    "    }\n",
    "\n",
    "def get_pdf_from_BT_instance(bt_inst):\n",
    "    '''\n",
    "        Given an instance of `name_BradleyTerry` this method returns\n",
    "        the bt-pdf stored on the instance\n",
    "    '''\n",
    "    blocs = bt_inst.blocs\n",
    "    if len(blocs) != 1:\n",
    "        raise Exception(\"Non-one bloc on bt_inst\")\n",
    "    return bt_inst.pdfs_by_bloc[blocs[0]]\n",
    "\n",
    "\n",
    "def get_ballot_labels_and_weights(profile):\n",
    "    '''\n",
    "    Given a preference profile, collects the ballots and weights into\n",
    "    a dictionary (Ranking as tuple : weight).\n",
    "    '''\n",
    "    ballot_rankings = [bal.ranking for bal in profile.ballots]\n",
    "    ## convert the rankings from tuple of frozen sets into tuple of strings\n",
    "    bal_labels = [tuple([list(cand)[0] for cand in ranking]) for ranking in ballot_rankings]\n",
    "    bal_weights = [int(bal.weight) for bal in profile.ballots]\n",
    "\n",
    "    return dict(zip(bal_labels, bal_weights))"
   ]
  },
  {
   "cell_type": "code",
   "execution_count": null,
   "id": "290f9fe0-f2fc-4a7b-9c81-d0f95361a7a8",
   "metadata": {},
   "outputs": [],
   "source": []
  },
  {
   "cell_type": "code",
   "execution_count": 86,
   "id": "3356a04e-a215-4867-908c-1111d0420100",
   "metadata": {},
   "outputs": [],
   "source": [
    "up_to_idx = 100"
   ]
  },
  {
   "cell_type": "code",
   "execution_count": 72,
   "id": "f5650bbd-d2c1-4b0f-aa2b-bb1db1a1ae7d",
   "metadata": {},
   "outputs": [],
   "source": [
    "N_CANDS_FOR_BALLOTS = 4\n",
    "bt = name_BradleyTerry(**generate_BT_args(n_cands=N_CANDS_FOR_BALLOTS, alpha=1))"
   ]
  },
  {
   "cell_type": "code",
   "execution_count": null,
   "id": "5db92d27-4db9-4c89-8fc0-33ff30b36d5f",
   "metadata": {},
   "outputs": [],
   "source": []
  },
  {
   "cell_type": "code",
   "execution_count": 87,
   "id": "ad2ba925-8735-48dd-9c41-b72a92216284",
   "metadata": {},
   "outputs": [],
   "source": [
    "num_ballots = 500\n",
    "# Generate the ballots \n",
    "ballots_arr = bt.generate_profile_MCMC_arr_ballots(num_ballots)\n",
    "# Convert to Preference Profile\n",
    "bals_BT_MCMC = PreferenceProfile(ballots = ballots_arr[0:up_to_idx]).group_ballots()"
   ]
  },
  {
   "cell_type": "code",
   "execution_count": 88,
   "id": "92f592b3-a876-480e-ba16-ac5df3b7decc",
   "metadata": {},
   "outputs": [],
   "source": [
    "# Calculate labels \n",
    "bal_rankings_map_mcmc_as_freq = {\n",
    "    ballot: weight/(up_to_idx) for ballot, weight in get_ballot_labels_and_weights(bals_BT_MCMC).items()\n",
    "}"
   ]
  },
  {
   "cell_type": "code",
   "execution_count": 89,
   "id": "d6758077-7dfe-4f6b-a152-074e98cc7bec",
   "metadata": {},
   "outputs": [],
   "source": [
    "# populate any ballots that were not sampled\n",
    "all_keys = bt_pdfs.keys()\n",
    "for key in all_keys:\n",
    "    bal_rankings_map_mcmc_as_freq.setdefault(key, 0)"
   ]
  },
  {
   "cell_type": "code",
   "execution_count": 90,
   "id": "0fdcc539-83a4-42f4-9081-348d1487fc26",
   "metadata": {},
   "outputs": [],
   "source": [
    "cleaned_keys = [tuple(k) if isinstance(k, np.ndarray) else k for k in all_keys]"
   ]
  },
  {
   "cell_type": "code",
   "execution_count": 91,
   "id": "7438f42f-f8a2-4b5b-b87c-4e2a3a8605e8",
   "metadata": {},
   "outputs": [],
   "source": [
    "x_label = [\"\".join(ranking) for ranking in cleaned_keys]"
   ]
  },
  {
   "cell_type": "code",
   "execution_count": 92,
   "id": "ebdee761-29d1-4fa3-96fe-5b5aa921ae90",
   "metadata": {},
   "outputs": [
    {
     "data": {
      "text/plain": [
       "{('Cand3', 'Cand0', 'Cand2', 'Cand1'): 0.1,\n",
       " ('Cand3', 'Cand0', 'Cand1', 'Cand2'): 0.13,\n",
       " ('Cand3', 'Cand2', 'Cand0', 'Cand1'): 0.13,\n",
       " ('Cand3', 'Cand2', 'Cand1', 'Cand0'): 0.18,\n",
       " ('Cand3', 'Cand1', 'Cand2', 'Cand0'): 0.19,\n",
       " ('Cand3', 'Cand1', 'Cand0', 'Cand2'): 0.16,\n",
       " ('Cand2', 'Cand3', 'Cand0', 'Cand1'): 0.04,\n",
       " ('Cand2', 'Cand3', 'Cand1', 'Cand0'): 0.01,\n",
       " ('Cand1', 'Cand3', 'Cand2', 'Cand0'): 0.01,\n",
       " ('Cand1', 'Cand3', 'Cand0', 'Cand2'): 0.02,\n",
       " ('Cand0', 'Cand3', 'Cand2', 'Cand1'): 0.01,\n",
       " ('Cand0', 'Cand3', 'Cand1', 'Cand2'): 0.02,\n",
       " ('Cand0', 'Cand1', 'Cand2', 'Cand3'): 0,\n",
       " ('Cand0', 'Cand1', 'Cand3', 'Cand2'): 0,\n",
       " ('Cand0', 'Cand2', 'Cand1', 'Cand3'): 0,\n",
       " ('Cand0', 'Cand2', 'Cand3', 'Cand1'): 0,\n",
       " ('Cand1', 'Cand0', 'Cand2', 'Cand3'): 0,\n",
       " ('Cand1', 'Cand0', 'Cand3', 'Cand2'): 0,\n",
       " ('Cand1', 'Cand2', 'Cand0', 'Cand3'): 0,\n",
       " ('Cand1', 'Cand2', 'Cand3', 'Cand0'): 0,\n",
       " ('Cand2', 'Cand0', 'Cand1', 'Cand3'): 0,\n",
       " ('Cand2', 'Cand0', 'Cand3', 'Cand1'): 0,\n",
       " ('Cand2', 'Cand1', 'Cand0', 'Cand3'): 0,\n",
       " ('Cand2', 'Cand1', 'Cand3', 'Cand0'): 0}"
      ]
     },
     "execution_count": 92,
     "metadata": {},
     "output_type": "execute_result"
    }
   ],
   "source": [
    "bal_rankings_map_mcmc_as_freq"
   ]
  },
  {
   "cell_type": "code",
   "execution_count": 93,
   "id": "8c0cad6f-ae31-4f92-a377-85b1b4f5b135",
   "metadata": {},
   "outputs": [
    {
     "data": {
      "text/plain": [
       "Text(0, 0.5, 'Frequency')"
      ]
     },
     "execution_count": 93,
     "metadata": {},
     "output_type": "execute_result"
    },
    {
     "data": {
      "image/png": "[encoded data removed]",
      "text/plain": [
       "<Figure size 640x480 with 1 Axes>"
      ]
     },
     "metadata": {},
     "output_type": "display_data"
    }
   ],
   "source": [
    "plt.bar(x_label, [float(bal_rankings_map_mcmc_as_freq[k]) for k in cleaned_keys], label=\"Continuous MCMC\", alpha = 0.5)\n",
    "plt.bar(x_label, [float(bt_pdfs[k]) for k in cleaned_keys], label = \"Pre-calculated PMF\", alpha = 0.5)\n",
    "plt.xticks(rotation=45, ha='right', fontsize=8)\n",
    "plt.legend()\n",
    "plt.ylabel(\"Frequency\")"
   ]
  },
  {
   "cell_type": "code",
   "execution_count": null,
   "id": "2b65f05b-285a-4170-a8b8-4a2dfd4d09ac",
   "metadata": {},
   "outputs": [],
   "source": [
    "bal_rankings_map_classic_as_freq = {\n",
    "    ballot : weight/num_ballots for ballot, weight in get_ballot_labels_and_weights(bals_BT_classic).items()\n",
    "}"
   ]
  },
  {
   "cell_type": "code",
   "execution_count": null,
   "id": "b96fffb0-dacb-4429-bd38-bd5f17c7c6fb",
   "metadata": {},
   "outputs": [],
   "source": [
    "total_ballots = 10_000\n",
    "num_ballots_array = np.linspace(100, total_ballots, 100)\n",
    "num_ballots_array = num_ballots_array.astype(int)[1:]\n",
    "num_trials_per_ballot_size = 10\n",
    "\n",
    "N_CANDS_FOR_BALLOTS = 6\n",
    "bt = name_BradleyTerry(**generate_BT_args(n_cands=N_CANDS_FOR_BALLOTS, alpha=1))\n",
    "bt_pdfs = get_pdf_from_BT_instance(bt)\n",
    "\n",
    "tv_distances_non_shortcut = []\n",
    "tv_distances_shortcut = []\n",
    "tv_distances_classic = []\n",
    "for num_ballots in tqdm(num_ballots_array):\n",
    "    running_total_non_shortcut = 0\n",
    "    running_total_shortcut = 0\n",
    "    running_total_classic = 0\n",
    "    for _ in range(num_trials_per_ballot_size):\n",
    "        ## -- Intialize the ballots ------------ \n",
    "        bals_BT_MCMC = bt.generate_profile_MCMC(num_ballots).group_ballots()\n",
    "        bals_BT_MCMC_shortcut = bt.generate_profile_MCMC(num_ballots, on_shortcut_graph=True).group_ballots() \n",
    "        bals_BT_classic = bt.generate_profile(num_ballots).group_ballots()\n",
    "\n",
    "        ## -- Calculate the frequencies ----------------\n",
    "        bal_rankings_map_classic_as_freq = {\n",
    "            ballot : weight/num_ballots for ballot, weight in get_ballot_labels_and_weights(bals_BT_classic).items()\n",
    "        }\n",
    "        bal_rankings_map_mcmc_as_freq = {\n",
    "            ballot: weight/num_ballots for ballot, weight in get_ballot_labels_and_weights(bals_BT_MCMC).items()\n",
    "        }\n",
    "        bal_rankings_map_mcmc_shortcut_as_freq = {\n",
    "            ballot: weight/num_ballots for ballot, weight in get_ballot_labels_and_weights(bals_BT_MCMC_shortcut).items()\n",
    "        }\n",
    "\n",
    "        # populate any ballots that were not sampled\n",
    "        all_keys = bt_pdfs.keys()\n",
    "        for key in all_keys:\n",
    "            bal_rankings_map_classic_as_freq.setdefault(key, 0)\n",
    "            bal_rankings_map_mcmc_as_freq.setdefault(key, 0)\n",
    "            bal_rankings_map_mcmc_shortcut_as_freq.setdefault(key, 0)\n",
    "        \n",
    "        # increment the recorded tv distances\n",
    "        running_total_non_shortcut += total_variation_distance(bal_rankings_map_mcmc_as_freq, bt_pdfs, list(all_keys))\n",
    "        running_total_shortcut += total_variation_distance(bal_rankings_map_mcmc_shortcut_as_freq, bt_pdfs, list(all_keys))\n",
    "        running_total_classic += total_variation_distance(bal_rankings_map_classic_as_freq, bt_pdfs, list(all_keys))\n",
    "\n",
    "    tv_distances_non_shortcut.append(running_total_non_shortcut/num_trials_per_ballot_size)\n",
    "    tv_distances_shortcut.append(running_total_shortcut/num_trials_per_ballot_size)\n",
    "    tv_distances_classic.append(running_total_classic/num_trials_per_ballot_size)"
   ]
  },
  {
   "cell_type": "code",
   "execution_count": null,
   "id": "2d252adc-56b6-47fe-baee-fa3afffd41b7",
   "metadata": {},
   "outputs": [],
   "source": []
  }
 ],
 "metadata": {
  "kernelspec": {
   "display_name": "Python 3 (ipykernel)",
   "language": "python",
   "name": "python3"
  },
  "language_info": {
   "codemirror_mode": {
    "name": "ipython",
    "version": 3
   },
   "file_extension": ".py",
   "mimetype": "text/x-python",
   "name": "python",
   "nbconvert_exporter": "python",
   "pygments_lexer": "ipython3",
   "version": "3.12.5"
  }
 },
 "nbformat": 4,
 "nbformat_minor": 5
}
