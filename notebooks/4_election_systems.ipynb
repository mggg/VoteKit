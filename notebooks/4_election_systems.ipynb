{
 "cells": [
  {
   "cell_type": "markdown",
   "metadata": {
    "id": "XUpNxYs-49Co"
   },
   "source": [
    "# Elections\n",
    "\n",
    "Elections are the systems or algorithms by which a `PreferenceProfile`, or collection of ballots, is converted into an outcome. There are infinitely many different possible election methods, whether the output is a single winner, a set of winners, or a consensus ranking. VoteKit has a host of built-in election methods, as well as the functionality to let you create your own system of election. By the end of this section, you will have been introduced to the STV and Borda elections, learned about the `Election` object, and created your own election type."
   ]
  },
  {
   "cell_type": "markdown",
   "metadata": {
    "id": "4wDDxZZ-BWsY"
   },
   "source": [
    "## STV\n",
    "\n",
    "To start, let's return to the Minneapolis 2013 mayoral race. We first saw this in [previous notebooks](2_real_and_simulated_profiles.html). As a reminder, this election had 35 named candidates running for one seat, and used an IRV election system (which is mathematically equivalent to a single-winner STV election) to choose the winner. Voters were only allowed to rank their top three candidates.\n",
    "\n",
    "Let's load in the **cast vote record** (CVR) from the election, and do all of the same cleaning we did before."
   ]
  },
  {
   "cell_type": "code",
   "execution_count": null,
   "metadata": {
    "id": "x8PuYJyU26Mm"
   },
   "outputs": [
    {
     "name": "stdout",
     "output_type": "stream",
     "text": [
      "Profile contains rankings: True\n",
      "Maximum ranking length: 3\n",
      "Profile contains scores: False\n",
      "Candidates: ('KURTIS W. HANNA', 'undervote', 'STEPHANIE WOODRUFF', 'GREGG A. IVERSON', 'JOHN CHARLES WILSON', 'JOSHUA REA', 'JACKIE CHERRYHOMES', 'BILL KAHN', 'CHRISTOPHER ROBIN ZIMMERMAN', 'CHRISTOPHER CLARK', 'MARK V ANDERSON', 'JAMES EVERETT', 'JAMES \"JIMMY\" L. STROUD, JR.', 'NEAL BAXTER', 'EDMUND BERNARD BRUYERE', 'overvote', 'MARK ANDREW', 'UWI', 'CAPTAIN JACK SPARROW', 'ALICIA K. BENNETT', 'CYD GORMAN', 'BOB \"AGAIN\" CARNEY JR', 'JEFFREY ALAN WAGNER', 'JOHN LESLIE HARTWIG', 'OLE SAVIOR', 'TROY BENJEGERDES', 'TONY LANE', 'CAM WINTON', 'BETSY HODGES', 'DAN COHEN', 'DON SAMUELS', 'BOB FINE', 'RAHN V. WORKCUFF', 'MERRILL ANDERSON', 'ABDUL M RAHAMAN \"THE ROCK\"', 'JAYMIE KELLY', 'MIKE GOULD', 'DOUG MANN')\n",
      "Candidates who received votes: ('KURTIS W. HANNA', 'undervote', 'STEPHANIE WOODRUFF', 'GREGG A. IVERSON', 'JOHN CHARLES WILSON', 'JOSHUA REA', 'JACKIE CHERRYHOMES', 'BILL KAHN', 'CHRISTOPHER ROBIN ZIMMERMAN', 'CHRISTOPHER CLARK', 'MARK V ANDERSON', 'JAMES EVERETT', 'JAMES \"JIMMY\" L. STROUD, JR.', 'NEAL BAXTER', 'EDMUND BERNARD BRUYERE', 'overvote', 'MARK ANDREW', 'UWI', 'CAPTAIN JACK SPARROW', 'ALICIA K. BENNETT', 'CYD GORMAN', 'BOB \"AGAIN\" CARNEY JR', 'JEFFREY ALAN WAGNER', 'JOHN LESLIE HARTWIG', 'OLE SAVIOR', 'TROY BENJEGERDES', 'TONY LANE', 'CAM WINTON', 'BETSY HODGES', 'DAN COHEN', 'DON SAMUELS', 'BOB FINE', 'RAHN V. WORKCUFF', 'MERRILL ANDERSON', 'ABDUL M RAHAMAN \"THE ROCK\"', 'JAYMIE KELLY', 'MIKE GOULD', 'DOUG MANN')\n",
      "Total number of Ballot objects: 80101\n",
      "Total weight of Ballot objects: 80101.0\n",
      "\n",
      "                                  Status  Round\n",
      "BETSY HODGES                     Elected     35\n",
      "MARK ANDREW                   Eliminated     34\n",
      "DON SAMUELS                   Eliminated     33\n",
      "CAM WINTON                    Eliminated     32\n",
      "JACKIE CHERRYHOMES            Eliminated     31\n",
      "BOB FINE                      Eliminated     30\n",
      "DAN COHEN                     Eliminated     29\n",
      "STEPHANIE WOODRUFF            Eliminated     28\n",
      "MARK V ANDERSON               Eliminated     27\n",
      "DOUG MANN                     Eliminated     26\n",
      "OLE SAVIOR                    Eliminated     25\n",
      "JAMES EVERETT                 Eliminated     24\n",
      "ALICIA K. BENNETT             Eliminated     23\n",
      "ABDUL M RAHAMAN \"THE ROCK\"    Eliminated     22\n",
      "CAPTAIN JACK SPARROW          Eliminated     21\n",
      "CHRISTOPHER CLARK             Eliminated     20\n",
      "TONY LANE                     Eliminated     19\n",
      "JAYMIE KELLY                  Eliminated     18\n",
      "MIKE GOULD                    Eliminated     17\n",
      "KURTIS W. HANNA               Eliminated     16\n",
      "CHRISTOPHER ROBIN ZIMMERMAN   Eliminated     15\n",
      "JEFFREY ALAN WAGNER           Eliminated     14\n",
      "NEAL BAXTER                   Eliminated     13\n",
      "TROY BENJEGERDES              Eliminated     12\n",
      "GREGG A. IVERSON              Eliminated     11\n",
      "MERRILL ANDERSON              Eliminated     10\n",
      "JOSHUA REA                    Eliminated      9\n",
      "BILL KAHN                     Eliminated      8\n",
      "JOHN LESLIE HARTWIG           Eliminated      7\n",
      "EDMUND BERNARD BRUYERE        Eliminated      6\n",
      "JAMES \"JIMMY\" L. STROUD, JR.  Eliminated      5\n",
      "RAHN V. WORKCUFF              Eliminated      4\n",
      "BOB \"AGAIN\" CARNEY JR         Eliminated      3\n",
      "CYD GORMAN                    Eliminated      2\n",
      "JOHN CHARLES WILSON           Eliminated      1\n"
     ]
    }
   ],
   "source": [
    "from votekit.cvr_loaders import load_ranking_csv\n",
    "from votekit.elections import STV\n",
    "from votekit.cleaning import remove_repeated_candidates, remove_cand, condense_profile\n",
    "\n",
    "minneapolis_profile = load_ranking_csv(\"mn_2013_cast_vote_record.csv\", rank_cols=[0,1,2], header_row=0)\n",
    "minneapolis_profile = condense_profile(remove_repeated_candidates(remove_cand([\"undervote\", \"overvote\", \"UWI\"], minneapolis_profile)))\n",
    "\n",
    "# m = 1 means 1 seat\n",
    "minn_election = STV(profile=minneapolis_profile, m=1)\n",
    "print(minn_election)"
   ]
  },
  {
   "cell_type": "markdown",
   "metadata": {
    "id": "1QFRhOl7XX7P"
   },
   "source": [
    "First, what is this showing?  Generally, the winners are listed in the order they were elected, from the top down.  Eliminated candidates are filled in in the order they were eliminated, bottom-up.  If any candidates are still remaining without having been designated elected or eliminated, they are in a middle category called `Remaining`.  Ties are broken by strength, meaning for instance that if 3 candidates are remaining at the end, they are listed in the order of their first-place in the final election state.  This means that this output can be thought of as an aggregate ranking vector produced by applying the election method to the voters' ranking vectors.  "
   ]
  },
  {
   "cell_type": "markdown",
   "metadata": {
    "id": "oICFtPmp6E8S"
   },
   "source": [
    "So what exactly is happening in this STV election? STV stands for \"single transferable vote.\" Voters cast ranked choice ballots. A threshold is set of how much support is required for election; if a candidate crosses the threshold, they are designated as a winner. The threshold in VoteKit defaults to something called the **Droop quota**. If there are $N$ voters and $m$ seats, then Droop quota is computed as $T=\\lfloor N/(m+1)\\rfloor +1$. Another option is the **Hare quota**, which is just $T=N/m$, which is a little bit larger. Generally, all that is needed of a threshold is that it can't be the case that $m+1$ candidates exceed it.\n",
    "\n",
    "In the first round, the first-place votes for each candidate are tallied. If candidate $A$ crosses the threshold, they are elected. If there were surplus votes, then the ballots with $A$ in first place are transfered, with appropriately reduced weight, to the next choice of those voters. If another candidate receives enough transfered support to cross the threshold, they are elected. If no candidate does, the candidate with the fewest first-place votes is removed from all ballots, and their votes are transfered with full weight. This repeats until all seats are filled.\n",
    "\n",
    "Let's work out a small example where it is easier to see how STV works. We will use a fractional transfer rule. If the threshold is $T$ and a candidate received $rT$ votes in a given round, where $r>1$, then the excess is $(r-1)T$ and so ballots are now \"discounted\" to have new weight $(r-1)/r$. For instance if the candidate received 150 votes but only needed 100, there would be 50 \"excess\" votes.  Instead of randomly picking 50 out of 150 ballots to transfer, we transfer them all with a reduced weight of 50/150, or 1/3.  Here is a [link](https://mggg.org/publications/political-geometry/20-WeighillDuchin.pdf) to a more substantial explainer about ranked choice.\n",
    "\n",
    "In our example, suppose there are $N=23$ voters and $n=7$ candidates running for $m=3$ seats with the following profile."
   ]
  },
  {
   "cell_type": "code",
   "execution_count": 2,
   "metadata": {
    "id": "Vy_kQAL86EVn"
   },
   "outputs": [
    {
     "name": "stdout",
     "output_type": "stream",
     "text": [
      "             Ranking_1 Ranking_2 Ranking_3 Voter Set  Weight\n",
      "Ballot Index                                                \n",
      "0                  (A)       (B)       (~)        {}     3.0\n",
      "1                  (B)       (C)       (D)        {}     8.0\n",
      "2                  (C)       (A)       (B)        {}     1.0\n",
      "3                  (D)       (E)       (~)        {}     3.0\n",
      "4                  (E)       (D)       (F)        {}     1.0\n",
      "5                  (F)       (G)       (~)        {}     4.0\n",
      "6                  (G)       (E)       (F)        {}     3.0\n",
      "Sum of ballot weights: 23.0\n",
      "Number of candidates: 7\n",
      "\n",
      "Initial tiebreak was unsuccessful, performing random tiebreak\n",
      "Threshold: 6\n",
      "Number of rounds 6\n",
      "       Status  Round\n",
      "B     Elected      1\n",
      "D     Elected      4\n",
      "F     Elected      6\n",
      "A   Remaining      6\n",
      "G  Eliminated      5\n",
      "C  Eliminated      3\n",
      "E  Eliminated      2\n"
     ]
    }
   ],
   "source": [
    "from votekit.ballot import Ballot\n",
    "from votekit.pref_profile import PreferenceProfile\n",
    "\n",
    "candidates = [\"A\", \"B\", \"C\", \"D\", \"E\", \"F\", \"G\"]\n",
    "\n",
    "ballots = [\n",
    "    Ballot(ranking=[{\"A\"}, {\"B\"}], weight=3),\n",
    "    Ballot(ranking=[{\"B\"}, {\"C\"}, {\"D\"}], weight=8),\n",
    "    Ballot(ranking=[{\"C\"}, {\"A\"}, {\"B\"}], weight=1),\n",
    "    Ballot(ranking=[{\"D\"}, {\"E\"}], weight=3),\n",
    "    Ballot(ranking=[{\"E\"}, {\"D\"}, {\"F\"}], weight=1),\n",
    "    Ballot(ranking=[{\"F\"}, {\"G\"}], weight=4),\n",
    "    Ballot(ranking=[{\"G\"}, {\"E\"}, {\"F\"}], weight=3),\n",
    "]\n",
    "\n",
    "profile = PreferenceProfile(ballots=ballots)\n",
    "\n",
    "print(profile.df)\n",
    "print(\"Sum of ballot weights:\", profile.total_ballot_wt)\n",
    "print(\"Number of candidates:\", len(profile.candidates))\n",
    "print()\n",
    "election = STV(profile=profile, m=3)\n",
    "\n",
    "print(\"Threshold:\", election.threshold)\n",
    "print(\"Number of rounds\", len(election))\n",
    "print(election)"
   ]
  },
  {
   "cell_type": "markdown",
   "metadata": {
    "id": "4HcKnU3h9apD"
   },
   "source": [
    "What this code block did is create an `Election` object that lets us access all the information, round-by-round, about what would happen under the designated election method. The message about a tiebreak indicates that in some round, a random tiebreak was needed.\n",
    "\n",
    "We can review it step-by-step instead of all at once. Just from a brief glance at the profile and threshold, we see that candidate B should be elected in the first round. Let's see this happen in two ways.\n",
    "\n",
    "First, observe the first-place votes for each candidate. These are stored in the round 0 `ElectionState` object, which can be accessed as follows."
   ]
  },
  {
   "cell_type": "code",
   "execution_count": 3,
   "metadata": {
    "id": "jCPRgHTsxO4B"
   },
   "outputs": [
    {
     "data": {
      "text/plain": [
       "{'A': np.float64(3.0),\n",
       " 'B': np.float64(8.0),\n",
       " 'C': np.float64(1.0),\n",
       " 'D': np.float64(3.0),\n",
       " 'E': np.float64(1.0),\n",
       " 'F': np.float64(4.0),\n",
       " 'G': np.float64(3.0)}"
      ]
     },
     "execution_count": 3,
     "metadata": {},
     "output_type": "execute_result"
    }
   ],
   "source": [
    "election.election_states[0].scores"
   ]
  },
  {
   "cell_type": "markdown",
   "metadata": {
    "id": "EAIwmPkIxjx8"
   },
   "source": [
    "We can see from this that only B is over the threshold.  The other way we can see who wins in the first round is by looking at the next `ElectionState`.\n",
    "\n"
   ]
  },
  {
   "cell_type": "code",
   "execution_count": 4,
   "metadata": {
    "id": "WXJs3HjQ5zV4"
   },
   "outputs": [
    {
     "name": "stdout",
     "output_type": "stream",
     "text": [
      "elected (frozenset({'B'}),)\n",
      "\n",
      "eliminated (frozenset(),)\n",
      "\n",
      "remaining (frozenset({'F'}), frozenset({'A', 'C', 'D', 'G'}), frozenset({'E'}))\n"
     ]
    }
   ],
   "source": [
    "print(\"elected\", election.election_states[1].elected)\n",
    "print(\"\\neliminated\", election.election_states[1].eliminated)\n",
    "print(\"\\nremaining\", election.election_states[1].remaining)"
   ]
  },
  {
   "cell_type": "markdown",
   "metadata": {
    "id": "z2o_K_rw99Dl"
   },
   "source": [
    "$B$ passed the threshold by 2 votes with a total of 8, so the $B,C,D$ ballot is going to have $B$ removed and be given weight $2/8$ (excess/total) times its previous weight of 8. To check this, election objects have a method called `get_profile()` that returns the `PreferenceProfile` after a particular round."
   ]
  },
  {
   "cell_type": "code",
   "execution_count": 5,
   "metadata": {},
   "outputs": [
    {
     "data": {
      "text/html": [
       "<div>\n",
       "<style scoped>\n",
       "    .dataframe tbody tr th:only-of-type {\n",
       "        vertical-align: middle;\n",
       "    }\n",
       "\n",
       "    .dataframe tbody tr th {\n",
       "        vertical-align: top;\n",
       "    }\n",
       "\n",
       "    .dataframe thead th {\n",
       "        text-align: right;\n",
       "    }\n",
       "</style>\n",
       "<table border=\"1\" class=\"dataframe\">\n",
       "  <thead>\n",
       "    <tr style=\"text-align: right;\">\n",
       "      <th></th>\n",
       "      <th>Ranking_1</th>\n",
       "      <th>Ranking_2</th>\n",
       "      <th>Ranking_3</th>\n",
       "      <th>Voter Set</th>\n",
       "      <th>Weight</th>\n",
       "    </tr>\n",
       "    <tr>\n",
       "      <th>Ballot Index</th>\n",
       "      <th></th>\n",
       "      <th></th>\n",
       "      <th></th>\n",
       "      <th></th>\n",
       "      <th></th>\n",
       "    </tr>\n",
       "  </thead>\n",
       "  <tbody>\n",
       "    <tr>\n",
       "      <th>0</th>\n",
       "      <td>(C)</td>\n",
       "      <td>(D)</td>\n",
       "      <td>(~)</td>\n",
       "      <td>{}</td>\n",
       "      <td>2.0</td>\n",
       "    </tr>\n",
       "    <tr>\n",
       "      <th>1</th>\n",
       "      <td>(E)</td>\n",
       "      <td>(D)</td>\n",
       "      <td>(F)</td>\n",
       "      <td>{}</td>\n",
       "      <td>1.0</td>\n",
       "    </tr>\n",
       "    <tr>\n",
       "      <th>2</th>\n",
       "      <td>(G)</td>\n",
       "      <td>(E)</td>\n",
       "      <td>(F)</td>\n",
       "      <td>{}</td>\n",
       "      <td>3.0</td>\n",
       "    </tr>\n",
       "    <tr>\n",
       "      <th>3</th>\n",
       "      <td>(A)</td>\n",
       "      <td>(~)</td>\n",
       "      <td>(~)</td>\n",
       "      <td>{}</td>\n",
       "      <td>3.0</td>\n",
       "    </tr>\n",
       "    <tr>\n",
       "      <th>4</th>\n",
       "      <td>(C)</td>\n",
       "      <td>(A)</td>\n",
       "      <td>(~)</td>\n",
       "      <td>{}</td>\n",
       "      <td>1.0</td>\n",
       "    </tr>\n",
       "    <tr>\n",
       "      <th>5</th>\n",
       "      <td>(D)</td>\n",
       "      <td>(E)</td>\n",
       "      <td>(~)</td>\n",
       "      <td>{}</td>\n",
       "      <td>3.0</td>\n",
       "    </tr>\n",
       "    <tr>\n",
       "      <th>6</th>\n",
       "      <td>(F)</td>\n",
       "      <td>(G)</td>\n",
       "      <td>(~)</td>\n",
       "      <td>{}</td>\n",
       "      <td>4.0</td>\n",
       "    </tr>\n",
       "  </tbody>\n",
       "</table>\n",
       "</div>"
      ],
      "text/plain": [
       "             Ranking_1 Ranking_2 Ranking_3 Voter Set  Weight\n",
       "Ballot Index                                                \n",
       "0                  (C)       (D)       (~)        {}     2.0\n",
       "1                  (E)       (D)       (F)        {}     1.0\n",
       "2                  (G)       (E)       (F)        {}     3.0\n",
       "3                  (A)       (~)       (~)        {}     3.0\n",
       "4                  (C)       (A)       (~)        {}     1.0\n",
       "5                  (D)       (E)       (~)        {}     3.0\n",
       "6                  (F)       (G)       (~)        {}     4.0"
      ]
     },
     "execution_count": 5,
     "metadata": {},
     "output_type": "execute_result"
    }
   ],
   "source": [
    "election.get_profile(1).df"
   ]
  },
  {
   "cell_type": "markdown",
   "metadata": {
    "id": "tlgqYVl8-niT"
   },
   "source": [
    "Look, $B$ is now removed from all ballots, and the $B,C,D$ ballot became $C,D$ with weight 2. No one has enough votes to cross the 6 threshold, so the candidate with the least support will be eliminated---that is candidate $E$, with only one first-place vote.\n",
    "\n",
    "We also introduce the `get_step()` method which accesses the profile and state of a given round."
   ]
  },
  {
   "cell_type": "code",
   "execution_count": 6,
   "metadata": {
    "id": "hjr3-ekT-Kd7"
   },
   "outputs": [
    {
     "name": "stdout",
     "output_type": "stream",
     "text": [
      "fpv after round 1: {'C': np.float64(3.0), 'D': np.float64(3.0), 'E': np.float64(1.0), 'F': np.float64(4.0), 'G': np.float64(3.0), 'A': np.float64(3.0)}\n",
      "go to the next step\n",
      "\n",
      "elected (frozenset(),)\n",
      "\n",
      "eliminated (frozenset({'E'}),)\n",
      "\n",
      "remaining (frozenset({'D', 'F'}), frozenset({'A', 'C', 'G'}))\n",
      "             Ranking_1 Ranking_2 Ranking_3 Voter Set  Weight\n",
      "Ballot Index                                                \n",
      "0                  (C)       (D)       (~)        {}     2.0\n",
      "1                  (D)       (F)       (~)        {}     1.0\n",
      "2                  (G)       (F)       (~)        {}     3.0\n",
      "3                  (A)       (~)       (~)        {}     3.0\n",
      "4                  (C)       (A)       (~)        {}     1.0\n",
      "5                  (D)       (~)       (~)        {}     3.0\n",
      "6                  (F)       (G)       (~)        {}     4.0\n"
     ]
    }
   ],
   "source": [
    "print(\"fpv after round 1:\", election.election_states[1].scores)\n",
    "print(\"go to the next step\\n\")\n",
    "\n",
    "profile, state = election.get_step(2)\n",
    "print(\"elected\", state.elected)\n",
    "print(\"\\neliminated\", state.eliminated)\n",
    "print(\"\\nremaining\", state.remaining)\n",
    "print(profile.df)"
   ]
  },
  {
   "cell_type": "markdown",
   "metadata": {
    "id": "h1M1zak-_GHP"
   },
   "source": [
    "$E$ has been removed from all of the ballots. Again, no one crosses the threshold so the candidate with the fewest first-place votes will be eliminated."
   ]
  },
  {
   "cell_type": "code",
   "execution_count": 7,
   "metadata": {
    "id": "KkW9UbQW_CqZ"
   },
   "outputs": [
    {
     "name": "stdout",
     "output_type": "stream",
     "text": [
      "fpv after round 2: {'G': np.float64(3.0), 'A': np.float64(3.0), 'C': np.float64(3.0), 'D': np.float64(4.0), 'F': np.float64(4.0)}\n",
      "go to the next step\n",
      "\n",
      "elected (frozenset(),)\n",
      "\n",
      "eliminated (frozenset({'C'}),)\n",
      "\n",
      "remaining (frozenset({'D'}), frozenset({'A', 'F'}), frozenset({'G'}))\n",
      "\n",
      "tiebreak resolution {frozenset({'A', 'C', 'G'}): (frozenset({'A'}), frozenset({'G'}), frozenset({'C'}))}\n",
      "\n",
      "Initial tiebreak was unsuccessful, performing random tiebreak\n",
      "             Ranking_1 Ranking_2 Ranking_3 Voter Set  Weight\n",
      "Ballot Index                                                \n",
      "0                  (D)       (~)       (~)        {}     2.0\n",
      "1                  (D)       (F)       (~)        {}     1.0\n",
      "2                  (G)       (F)       (~)        {}     3.0\n",
      "3                  (A)       (~)       (~)        {}     3.0\n",
      "4                  (A)       (~)       (~)        {}     1.0\n",
      "5                  (D)       (~)       (~)        {}     3.0\n",
      "6                  (F)       (G)       (~)        {}     4.0\n"
     ]
    }
   ],
   "source": [
    "print(\"fpv after round 2:\", election.election_states[2].scores)\n",
    "print(\"go to the next step\\n\")\n",
    "\n",
    "\n",
    "print(\"elected\", election.election_states[3].elected)\n",
    "print(\"\\neliminated\", election.election_states[3].eliminated)\n",
    "print(\"\\nremaining\", election.election_states[3].remaining)\n",
    "print(\"\\ntiebreak resolution\", election.election_states[3].tiebreaks)\n",
    "print()\n",
    "print(election.get_profile(3).df)"
   ]
  },
  {
   "cell_type": "markdown",
   "metadata": {
    "id": "gbwYg51L_qFm"
   },
   "source": [
    "Note that here, several candidates were tied for the fewest first-place votes at this stage. When this happens in STV, you use the first-place votes from the original profile to break ties. This means C will be eliminated. The `tiebreaks` parameter records the resolution of the tie; since we are looking for the person with the least first-place votes, the candidate in the final entry of the tuple is eliminated. The reason the message \"Initial tiebreak was unsuccessful, performing random tiebreak\" appeared is that A and G were tied by first-place votes, and thus a random tiebreak was needed to separate them. This didn't affect the outcome, since C had the fewest first-place votes.\n",
    "\n",
    "### **Try it yourself**\n",
    "> Keep printing the first-place votes and running a step of the election until all seats have been filled. At each step, think through why the election state transitioned as it did."
   ]
  },
  {
   "cell_type": "markdown",
   "metadata": {
    "id": "eonJGL8WBjDK"
   },
   "source": [
    "We now change the transfer type. Using the same profile as above, we'll now use `random_transfer`. In the default fractional transfer, we reweighted all of the ballots in proportion to the surplus. Here, we will randomly choose the appropriate number of ballots to transfer (the same number as the surplus).  Though it sounds strange, this is the method actually used in Cambridge, MA.  (Recall that Cambridge has used STV continuously since 1941 so back in the day they probably needed a low-tech physical way to do the transfers.)"
   ]
  },
  {
   "cell_type": "code",
   "execution_count": 8,
   "metadata": {
    "id": "B7-O3PgEBORN"
   },
   "outputs": [
    {
     "name": "stdout",
     "output_type": "stream",
     "text": [
      "             Ranking_1 Ranking_2 Ranking_3 Voter Set  Weight\n",
      "Ballot Index                                                \n",
      "0                  (A)       (B)       (~)        {}     3.0\n",
      "1                  (B)       (C)       (D)        {}     8.0\n",
      "2                  (B)       (D)       (C)        {}     8.0\n",
      "3                  (C)       (A)       (B)        {}     1.0\n",
      "4                  (D)       (E)       (~)        {}     1.0\n",
      "5                  (E)       (D)       (F)        {}     1.0\n",
      "6                  (F)       (G)       (~)        {}     4.0\n",
      "7                  (G)       (E)       (F)        {}     1.0\n",
      "Sum of ballot weights: 27.0\n",
      "Number of candidates: 7\n",
      "\n",
      "Initial tiebreak was unsuccessful, performing random tiebreak\n",
      "       Status  Round\n",
      "B     Elected      1\n",
      "D     Elected      7\n",
      "F  Eliminated      6\n",
      "C  Eliminated      5\n",
      "A  Eliminated      4\n",
      "G  Eliminated      3\n",
      "E  Eliminated      2\n"
     ]
    }
   ],
   "source": [
    "from votekit.elections import random_transfer\n",
    "\n",
    "candidates = [\"A\", \"B\", \"C\", \"D\", \"E\", \"F\", \"G\"]\n",
    "\n",
    "ballots = [\n",
    "    Ballot(ranking=[{\"A\"}, {\"B\"}], weight=3),\n",
    "    Ballot(ranking=[{\"B\"}, {\"C\"}, {\"D\"}], weight=8),\n",
    "    Ballot(ranking=[{\"B\"}, {\"D\"}, {\"C\"}], weight=8),\n",
    "    Ballot(ranking=[{\"C\"}, {\"A\"}, {\"B\"}], weight=1),\n",
    "    Ballot(ranking=[{\"D\"}, {\"E\"}], weight=1),\n",
    "    Ballot(ranking=[{\"E\"}, {\"D\"}, {\"F\"}], weight=1),\n",
    "    Ballot(ranking=[{\"F\"}, {\"G\"}], weight=4),\n",
    "    Ballot(ranking=[{\"G\"}, {\"E\"}, {\"F\"}], weight=1),\n",
    "]\n",
    "\n",
    "profile = PreferenceProfile(ballots=ballots)\n",
    "\n",
    "print(profile.df)\n",
    "print(\"Sum of ballot weights:\", profile.total_ballot_wt)\n",
    "print(\"Number of candidates:\", len(profile.candidates))\n",
    "print()\n",
    "\n",
    "election = STV(profile=profile, transfer=random_transfer, m=2)\n",
    "\n",
    "print(election)"
   ]
  },
  {
   "cell_type": "markdown",
   "metadata": {},
   "source": [
    "### **Try it yourself**\n",
    "> Rerun the code above until you see that different candidates can win under random transfer."
   ]
  },
  {
   "cell_type": "markdown",
   "metadata": {
    "id": "umu1Zkk-CoIS"
   },
   "source": [
    "## Election\n",
    "\n",
    "Let's poke around the `Election` class a bit more. It contains a lot of useful information about what is happening in an election. We will also introduce the Borda election."
   ]
  },
  {
   "cell_type": "markdown",
   "metadata": {
    "id": "x4GtxNXtC--Z"
   },
   "source": [
    "### Borda Election\n",
    "\n",
    "In a Borda election, ranked ballots are converted to a score for a candidate, and then the candidates with the highest scores win. The traditional score vector is $(n,n-1,\\dots,1)$: that is, if there are $n$ candidates, the first-place candidate on a ballot is given $n$ points, the second place $n-1$, all the way down to last, who is given $1$ point. You can change the score vector using the `score_vector` parameter."
   ]
  },
  {
   "cell_type": "code",
   "execution_count": 9,
   "metadata": {
    "id": "YdcDjNxZDaQ8"
   },
   "outputs": [],
   "source": [
    "from votekit.elections import Borda\n",
    "import votekit.ballot_generator as bg\n",
    "\n",
    "candidates = [\"A\", \"B\", \"C\", \"D\", \"E\", \"F\"]\n",
    "\n",
    "# recall IAC generates an \"all bets are off\" profile\n",
    "iac = bg.ImpartialAnonymousCulture(candidates=candidates)\n",
    "profile = iac.generate_profile(number_of_ballots=1000)\n",
    "\n",
    "election = Borda(profile, m=3)"
   ]
  },
  {
   "cell_type": "code",
   "execution_count": 10,
   "metadata": {
    "id": "YsWE2pe3EAa5"
   },
   "outputs": [
    {
     "name": "stdout",
     "output_type": "stream",
     "text": [
      "             Ranking_1 Ranking_2 Ranking_3 Ranking_4 Ranking_5 Ranking_6 Voter Set  Weight\n",
      "Ballot Index                                                                              \n",
      "0                  (B)       (E)       (F)       (C)       (D)       (A)        {}     3.0\n",
      "1                  (E)       (D)       (F)       (B)       (C)       (A)        {}     1.0\n",
      "2                  (A)       (B)       (C)       (E)       (F)       (D)        {}     3.0\n",
      "3                  (B)       (C)       (F)       (E)       (A)       (D)        {}     1.0\n",
      "4                  (A)       (E)       (B)       (C)       (F)       (D)        {}     2.0\n",
      "5                  (E)       (B)       (D)       (F)       (C)       (A)        {}     1.0\n",
      "6                  (B)       (A)       (E)       (F)       (C)       (D)        {}     1.0\n",
      "7                  (F)       (A)       (B)       (E)       (D)       (C)        {}     3.0\n",
      "8                  (C)       (F)       (A)       (B)       (E)       (D)        {}     6.0\n",
      "9                  (D)       (B)       (C)       (E)       (A)       (F)        {}     2.0\n",
      "\n",
      "      Status  Round\n",
      "A    Elected      1\n",
      "F    Elected      1\n",
      "B    Elected      1\n",
      "D  Remaining      1\n",
      "C  Remaining      1\n",
      "E  Remaining      1\n"
     ]
    }
   ],
   "source": [
    "print(election.get_profile(0).df.head(10).to_string())\n",
    "print()\n",
    "\n",
    "print(election)"
   ]
  },
  {
   "cell_type": "markdown",
   "metadata": {
    "id": "63ekmbZ7LfXd"
   },
   "source": [
    "The Borda election is one-shot (like plurality), so running a step or the election is equivalent. Let's see what the election stores.\n",
    "\n"
   ]
  },
  {
   "cell_type": "code",
   "execution_count": 11,
   "metadata": {
    "id": "neBbirEdLdyF"
   },
   "outputs": [
    {
     "name": "stdout",
     "output_type": "stream",
     "text": [
      "Winners: (frozenset({'A'}), frozenset({'F'}), frozenset({'B'}))\n",
      "Eliminated: ()\n",
      "Ranking: (frozenset({'A'}), frozenset({'F'}), frozenset({'B'}), frozenset({'D'}), frozenset({'C'}), frozenset({'E'}))\n",
      "Outcome of round 1:\n",
      "       Status  Round\n",
      "A    Elected      1\n",
      "F    Elected      1\n",
      "B    Elected      1\n",
      "D  Remaining      1\n",
      "C  Remaining      1\n",
      "E  Remaining      1\n"
     ]
    }
   ],
   "source": [
    "# the winners up to the given round, -1 means final round\n",
    "print(\"Winners:\", election.get_elected(-1))\n",
    "\n",
    "# the eliminated candidates up to the given round\n",
    "print(\"Eliminated:\", election.get_eliminated(-1))\n",
    "\n",
    "# the ranking of the candidates up to the given round\n",
    "print(\"Ranking:\", election.get_ranking(-1))\n",
    "\n",
    "# the outcome of the given round\n",
    "print(\"Outcome of round 1:\\n\", election.get_status_df(1))"
   ]
  },
  {
   "cell_type": "markdown",
   "metadata": {
    "id": "As2Qb6TU0E7z"
   },
   "source": [
    "### **Try it yourself**\n",
    "\n",
    "> Using the following preference profile, try changing the score vector of a Borda election. Try replacing 3,2,1 with other Borda weights (decreasing and non-negative) showing that each candidate can be elected."
   ]
  },
  {
   "cell_type": "code",
   "execution_count": 12,
   "metadata": {
    "id": "IOdRlppX0ME-"
   },
   "outputs": [
    {
     "name": "stdout",
     "output_type": "stream",
     "text": [
      "      Status  Round\n",
      "C    Elected      1\n",
      "B  Remaining      1\n",
      "A  Remaining      1\n"
     ]
    }
   ],
   "source": [
    "ballots = [\n",
    "    Ballot(ranking=[{\"A\"}, {\"B\"}, {\"C\"}], weight=3),\n",
    "    Ballot(ranking=[{\"A\"}, {\"C\"}, {\"B\"}], weight=2),\n",
    "    Ballot(ranking=[{\"B\"}, {\"C\"}, {\"A\"}], weight=2),\n",
    "    Ballot(ranking=[{\"C\"}, {\"B\"}, {\"A\"}], weight=4),\n",
    "]\n",
    "\n",
    "profile = PreferenceProfile(ballots=ballots, candidates=[\"A\", \"B\", \"C\"])\n",
    "\n",
    "# borda election\n",
    "score_vector = [3, 2, 1]\n",
    "election = Borda(profile, m=1, score_vector=score_vector)\n",
    "print(election)"
   ]
  },
  {
   "cell_type": "markdown",
   "metadata": {
    "id": "pklj64qsNiAL"
   },
   "source": [
    "Since a Borda election is a one-shot election, most of the information stored in the `Election` is extraneous, but you can see its utility in an STV election where there are many rounds."
   ]
  },
  {
   "cell_type": "code",
   "execution_count": null,
   "metadata": {
    "id": "ptzwPBIOL7rq"
   },
   "outputs": [
    {
     "name": "stdout",
     "output_type": "stream",
     "text": [
      "Profile contains rankings: True\n",
      "Maximum ranking length: 3\n",
      "Profile contains scores: False\n",
      "Candidates: ('KURTIS W. HANNA', 'undervote', 'STEPHANIE WOODRUFF', 'GREGG A. IVERSON', 'JOHN CHARLES WILSON', 'JOSHUA REA', 'JACKIE CHERRYHOMES', 'BILL KAHN', 'CHRISTOPHER ROBIN ZIMMERMAN', 'CHRISTOPHER CLARK', 'MARK V ANDERSON', 'JAMES EVERETT', 'JAMES \"JIMMY\" L. STROUD, JR.', 'NEAL BAXTER', 'EDMUND BERNARD BRUYERE', 'overvote', 'MARK ANDREW', 'UWI', 'CAPTAIN JACK SPARROW', 'ALICIA K. BENNETT', 'CYD GORMAN', 'BOB \"AGAIN\" CARNEY JR', 'JEFFREY ALAN WAGNER', 'JOHN LESLIE HARTWIG', 'OLE SAVIOR', 'TROY BENJEGERDES', 'TONY LANE', 'CAM WINTON', 'BETSY HODGES', 'DAN COHEN', 'DON SAMUELS', 'BOB FINE', 'RAHN V. WORKCUFF', 'MERRILL ANDERSON', 'ABDUL M RAHAMAN \"THE ROCK\"', 'JAYMIE KELLY', 'MIKE GOULD', 'DOUG MANN')\n",
      "Candidates who received votes: ('KURTIS W. HANNA', 'undervote', 'STEPHANIE WOODRUFF', 'GREGG A. IVERSON', 'JOHN CHARLES WILSON', 'JOSHUA REA', 'JACKIE CHERRYHOMES', 'BILL KAHN', 'CHRISTOPHER ROBIN ZIMMERMAN', 'CHRISTOPHER CLARK', 'MARK V ANDERSON', 'JAMES EVERETT', 'JAMES \"JIMMY\" L. STROUD, JR.', 'NEAL BAXTER', 'EDMUND BERNARD BRUYERE', 'overvote', 'MARK ANDREW', 'UWI', 'CAPTAIN JACK SPARROW', 'ALICIA K. BENNETT', 'CYD GORMAN', 'BOB \"AGAIN\" CARNEY JR', 'JEFFREY ALAN WAGNER', 'JOHN LESLIE HARTWIG', 'OLE SAVIOR', 'TROY BENJEGERDES', 'TONY LANE', 'CAM WINTON', 'BETSY HODGES', 'DAN COHEN', 'DON SAMUELS', 'BOB FINE', 'RAHN V. WORKCUFF', 'MERRILL ANDERSON', 'ABDUL M RAHAMAN \"THE ROCK\"', 'JAYMIE KELLY', 'MIKE GOULD', 'DOUG MANN')\n",
      "Total number of Ballot objects: 80101\n",
      "Total weight of Ballot objects: 80101.0\n",
      "\n",
      "Round 1\n",
      "\n",
      "Winners: ()\n",
      "Eliminated: (frozenset({'JOHN CHARLES WILSON'}),)\n",
      "Remaining: (frozenset({'BETSY HODGES'}), frozenset({'MARK ANDREW'}), frozenset({'DON SAMUELS'}), frozenset({'CAM WINTON'}), frozenset({'JACKIE CHERRYHOMES'}), frozenset({'BOB FINE'}), frozenset({'DAN COHEN'}), frozenset({'STEPHANIE WOODRUFF'}), frozenset({'MARK V ANDERSON'}), frozenset({'DOUG MANN'}), frozenset({'OLE SAVIOR'}), frozenset({'ABDUL M RAHAMAN \"THE ROCK\"'}), frozenset({'ALICIA K. BENNETT'}), frozenset({'JAMES EVERETT'}), frozenset({'CAPTAIN JACK SPARROW'}), frozenset({'TONY LANE'}), frozenset({'MIKE GOULD'}), frozenset({'KURTIS W. HANNA'}), frozenset({'JAYMIE KELLY'}), frozenset({'CHRISTOPHER CLARK'}), frozenset({'CHRISTOPHER ROBIN ZIMMERMAN'}), frozenset({'JEFFREY ALAN WAGNER'}), frozenset({'TROY BENJEGERDES'}), frozenset({'NEAL BAXTER', 'GREGG A. IVERSON'}), frozenset({'JOSHUA REA'}), frozenset({'MERRILL ANDERSON'}), frozenset({'BILL KAHN'}), frozenset({'JOHN LESLIE HARTWIG'}), frozenset({'EDMUND BERNARD BRUYERE'}), frozenset({'RAHN V. WORKCUFF', 'JAMES \"JIMMY\" L. STROUD, JR.'}), frozenset({'BOB \"AGAIN\" CARNEY JR'}), frozenset({'CYD GORMAN'}))\n",
      "                                  Status  Round\n",
      "BETSY HODGES                   Remaining      1\n",
      "MARK ANDREW                    Remaining      1\n",
      "DON SAMUELS                    Remaining      1\n",
      "CAM WINTON                     Remaining      1\n",
      "JACKIE CHERRYHOMES             Remaining      1\n",
      "BOB FINE                       Remaining      1\n",
      "DAN COHEN                      Remaining      1\n",
      "STEPHANIE WOODRUFF             Remaining      1\n",
      "MARK V ANDERSON                Remaining      1\n",
      "DOUG MANN                      Remaining      1\n",
      "OLE SAVIOR                     Remaining      1\n",
      "ABDUL M RAHAMAN \"THE ROCK\"     Remaining      1\n",
      "ALICIA K. BENNETT              Remaining      1\n",
      "JAMES EVERETT                  Remaining      1\n",
      "CAPTAIN JACK SPARROW           Remaining      1\n",
      "TONY LANE                      Remaining      1\n",
      "MIKE GOULD                     Remaining      1\n",
      "KURTIS W. HANNA                Remaining      1\n",
      "JAYMIE KELLY                   Remaining      1\n",
      "CHRISTOPHER CLARK              Remaining      1\n",
      "CHRISTOPHER ROBIN ZIMMERMAN    Remaining      1\n",
      "JEFFREY ALAN WAGNER            Remaining      1\n",
      "TROY BENJEGERDES               Remaining      1\n",
      "NEAL BAXTER                    Remaining      1\n",
      "GREGG A. IVERSON               Remaining      1\n",
      "JOSHUA REA                     Remaining      1\n",
      "MERRILL ANDERSON               Remaining      1\n",
      "BILL KAHN                      Remaining      1\n",
      "JOHN LESLIE HARTWIG            Remaining      1\n",
      "EDMUND BERNARD BRUYERE         Remaining      1\n",
      "RAHN V. WORKCUFF               Remaining      1\n",
      "JAMES \"JIMMY\" L. STROUD, JR.   Remaining      1\n",
      "BOB \"AGAIN\" CARNEY JR          Remaining      1\n",
      "CYD GORMAN                     Remaining      1\n",
      "JOHN CHARLES WILSON           Eliminated      1\n",
      "\n",
      "Round 2\n",
      "\n",
      "Winners: ()\n",
      "Eliminated: (frozenset({'CYD GORMAN'}), frozenset({'JOHN CHARLES WILSON'}))\n",
      "Remaining: (frozenset({'BETSY HODGES'}), frozenset({'MARK ANDREW'}), frozenset({'DON SAMUELS'}), frozenset({'CAM WINTON'}), frozenset({'JACKIE CHERRYHOMES'}), frozenset({'BOB FINE'}), frozenset({'DAN COHEN'}), frozenset({'STEPHANIE WOODRUFF'}), frozenset({'MARK V ANDERSON'}), frozenset({'DOUG MANN'}), frozenset({'OLE SAVIOR'}), frozenset({'ABDUL M RAHAMAN \"THE ROCK\"'}), frozenset({'ALICIA K. BENNETT'}), frozenset({'JAMES EVERETT'}), frozenset({'CAPTAIN JACK SPARROW'}), frozenset({'TONY LANE'}), frozenset({'MIKE GOULD'}), frozenset({'KURTIS W. HANNA'}), frozenset({'JAYMIE KELLY'}), frozenset({'CHRISTOPHER CLARK'}), frozenset({'CHRISTOPHER ROBIN ZIMMERMAN'}), frozenset({'JEFFREY ALAN WAGNER'}), frozenset({'TROY BENJEGERDES'}), frozenset({'GREGG A. IVERSON'}), frozenset({'NEAL BAXTER'}), frozenset({'JOSHUA REA'}), frozenset({'MERRILL ANDERSON'}), frozenset({'BILL KAHN'}), frozenset({'JOHN LESLIE HARTWIG'}), frozenset({'EDMUND BERNARD BRUYERE'}), frozenset({'RAHN V. WORKCUFF', 'JAMES \"JIMMY\" L. STROUD, JR.'}), frozenset({'BOB \"AGAIN\" CARNEY JR'}))\n",
      "                                  Status  Round\n",
      "BETSY HODGES                   Remaining      2\n",
      "MARK ANDREW                    Remaining      2\n",
      "DON SAMUELS                    Remaining      2\n",
      "CAM WINTON                     Remaining      2\n",
      "JACKIE CHERRYHOMES             Remaining      2\n",
      "BOB FINE                       Remaining      2\n",
      "DAN COHEN                      Remaining      2\n",
      "STEPHANIE WOODRUFF             Remaining      2\n",
      "MARK V ANDERSON                Remaining      2\n",
      "DOUG MANN                      Remaining      2\n",
      "OLE SAVIOR                     Remaining      2\n",
      "ABDUL M RAHAMAN \"THE ROCK\"     Remaining      2\n",
      "ALICIA K. BENNETT              Remaining      2\n",
      "JAMES EVERETT                  Remaining      2\n",
      "CAPTAIN JACK SPARROW           Remaining      2\n",
      "TONY LANE                      Remaining      2\n",
      "MIKE GOULD                     Remaining      2\n",
      "KURTIS W. HANNA                Remaining      2\n",
      "JAYMIE KELLY                   Remaining      2\n",
      "CHRISTOPHER CLARK              Remaining      2\n",
      "CHRISTOPHER ROBIN ZIMMERMAN    Remaining      2\n",
      "JEFFREY ALAN WAGNER            Remaining      2\n",
      "TROY BENJEGERDES               Remaining      2\n",
      "GREGG A. IVERSON               Remaining      2\n",
      "NEAL BAXTER                    Remaining      2\n",
      "JOSHUA REA                     Remaining      2\n",
      "MERRILL ANDERSON               Remaining      2\n",
      "BILL KAHN                      Remaining      2\n",
      "JOHN LESLIE HARTWIG            Remaining      2\n",
      "EDMUND BERNARD BRUYERE         Remaining      2\n",
      "RAHN V. WORKCUFF               Remaining      2\n",
      "JAMES \"JIMMY\" L. STROUD, JR.   Remaining      2\n",
      "BOB \"AGAIN\" CARNEY JR          Remaining      2\n",
      "CYD GORMAN                    Eliminated      2\n",
      "JOHN CHARLES WILSON           Eliminated      1\n",
      "\n",
      "Round 3\n",
      "\n",
      "Winners: ()\n",
      "Eliminated: (frozenset({'BOB \"AGAIN\" CARNEY JR'}), frozenset({'CYD GORMAN'}), frozenset({'JOHN CHARLES WILSON'}))\n",
      "Remaining: (frozenset({'BETSY HODGES'}), frozenset({'MARK ANDREW'}), frozenset({'DON SAMUELS'}), frozenset({'CAM WINTON'}), frozenset({'JACKIE CHERRYHOMES'}), frozenset({'BOB FINE'}), frozenset({'DAN COHEN'}), frozenset({'STEPHANIE WOODRUFF'}), frozenset({'MARK V ANDERSON'}), frozenset({'DOUG MANN'}), frozenset({'OLE SAVIOR'}), frozenset({'ABDUL M RAHAMAN \"THE ROCK\"'}), frozenset({'ALICIA K. BENNETT'}), frozenset({'JAMES EVERETT'}), frozenset({'CAPTAIN JACK SPARROW'}), frozenset({'TONY LANE'}), frozenset({'MIKE GOULD'}), frozenset({'KURTIS W. HANNA'}), frozenset({'JAYMIE KELLY'}), frozenset({'CHRISTOPHER CLARK'}), frozenset({'CHRISTOPHER ROBIN ZIMMERMAN'}), frozenset({'JEFFREY ALAN WAGNER'}), frozenset({'TROY BENJEGERDES'}), frozenset({'GREGG A. IVERSON'}), frozenset({'NEAL BAXTER'}), frozenset({'JOSHUA REA', 'MERRILL ANDERSON'}), frozenset({'BILL KAHN'}), frozenset({'JOHN LESLIE HARTWIG'}), frozenset({'EDMUND BERNARD BRUYERE'}), frozenset({'JAMES \"JIMMY\" L. STROUD, JR.'}), frozenset({'RAHN V. WORKCUFF'}))\n",
      "                                  Status  Round\n",
      "BETSY HODGES                   Remaining      3\n",
      "MARK ANDREW                    Remaining      3\n",
      "DON SAMUELS                    Remaining      3\n",
      "CAM WINTON                     Remaining      3\n",
      "JACKIE CHERRYHOMES             Remaining      3\n",
      "BOB FINE                       Remaining      3\n",
      "DAN COHEN                      Remaining      3\n",
      "STEPHANIE WOODRUFF             Remaining      3\n",
      "MARK V ANDERSON                Remaining      3\n",
      "DOUG MANN                      Remaining      3\n",
      "OLE SAVIOR                     Remaining      3\n",
      "ABDUL M RAHAMAN \"THE ROCK\"     Remaining      3\n",
      "ALICIA K. BENNETT              Remaining      3\n",
      "JAMES EVERETT                  Remaining      3\n",
      "CAPTAIN JACK SPARROW           Remaining      3\n",
      "TONY LANE                      Remaining      3\n",
      "MIKE GOULD                     Remaining      3\n",
      "KURTIS W. HANNA                Remaining      3\n",
      "JAYMIE KELLY                   Remaining      3\n",
      "CHRISTOPHER CLARK              Remaining      3\n",
      "CHRISTOPHER ROBIN ZIMMERMAN    Remaining      3\n",
      "JEFFREY ALAN WAGNER            Remaining      3\n",
      "TROY BENJEGERDES               Remaining      3\n",
      "GREGG A. IVERSON               Remaining      3\n",
      "NEAL BAXTER                    Remaining      3\n",
      "JOSHUA REA                     Remaining      3\n",
      "MERRILL ANDERSON               Remaining      3\n",
      "BILL KAHN                      Remaining      3\n",
      "JOHN LESLIE HARTWIG            Remaining      3\n",
      "EDMUND BERNARD BRUYERE         Remaining      3\n",
      "JAMES \"JIMMY\" L. STROUD, JR.   Remaining      3\n",
      "RAHN V. WORKCUFF               Remaining      3\n",
      "BOB \"AGAIN\" CARNEY JR         Eliminated      3\n",
      "CYD GORMAN                    Eliminated      2\n",
      "JOHN CHARLES WILSON           Eliminated      1\n",
      "\n",
      "Round 4\n",
      "\n",
      "Winners: ()\n",
      "Eliminated: (frozenset({'RAHN V. WORKCUFF'}), frozenset({'BOB \"AGAIN\" CARNEY JR'}), frozenset({'CYD GORMAN'}), frozenset({'JOHN CHARLES WILSON'}))\n",
      "Remaining: (frozenset({'BETSY HODGES'}), frozenset({'MARK ANDREW'}), frozenset({'DON SAMUELS'}), frozenset({'CAM WINTON'}), frozenset({'JACKIE CHERRYHOMES'}), frozenset({'BOB FINE'}), frozenset({'DAN COHEN'}), frozenset({'STEPHANIE WOODRUFF'}), frozenset({'MARK V ANDERSON'}), frozenset({'DOUG MANN'}), frozenset({'OLE SAVIOR'}), frozenset({'JAMES EVERETT', 'ABDUL M RAHAMAN \"THE ROCK\"'}), frozenset({'ALICIA K. BENNETT'}), frozenset({'CAPTAIN JACK SPARROW'}), frozenset({'TONY LANE'}), frozenset({'MIKE GOULD'}), frozenset({'KURTIS W. HANNA'}), frozenset({'JAYMIE KELLY'}), frozenset({'CHRISTOPHER CLARK'}), frozenset({'CHRISTOPHER ROBIN ZIMMERMAN'}), frozenset({'JEFFREY ALAN WAGNER'}), frozenset({'NEAL BAXTER'}), frozenset({'TROY BENJEGERDES'}), frozenset({'GREGG A. IVERSON'}), frozenset({'JOSHUA REA'}), frozenset({'MERRILL ANDERSON'}), frozenset({'BILL KAHN'}), frozenset({'JOHN LESLIE HARTWIG'}), frozenset({'EDMUND BERNARD BRUYERE'}), frozenset({'JAMES \"JIMMY\" L. STROUD, JR.'}))\n",
      "                                  Status  Round\n",
      "BETSY HODGES                   Remaining      4\n",
      "MARK ANDREW                    Remaining      4\n",
      "DON SAMUELS                    Remaining      4\n",
      "CAM WINTON                     Remaining      4\n",
      "JACKIE CHERRYHOMES             Remaining      4\n",
      "BOB FINE                       Remaining      4\n",
      "DAN COHEN                      Remaining      4\n",
      "STEPHANIE WOODRUFF             Remaining      4\n",
      "MARK V ANDERSON                Remaining      4\n",
      "DOUG MANN                      Remaining      4\n",
      "OLE SAVIOR                     Remaining      4\n",
      "JAMES EVERETT                  Remaining      4\n",
      "ABDUL M RAHAMAN \"THE ROCK\"     Remaining      4\n",
      "ALICIA K. BENNETT              Remaining      4\n",
      "CAPTAIN JACK SPARROW           Remaining      4\n",
      "TONY LANE                      Remaining      4\n",
      "MIKE GOULD                     Remaining      4\n",
      "KURTIS W. HANNA                Remaining      4\n",
      "JAYMIE KELLY                   Remaining      4\n",
      "CHRISTOPHER CLARK              Remaining      4\n",
      "CHRISTOPHER ROBIN ZIMMERMAN    Remaining      4\n",
      "JEFFREY ALAN WAGNER            Remaining      4\n",
      "NEAL BAXTER                    Remaining      4\n",
      "TROY BENJEGERDES               Remaining      4\n",
      "GREGG A. IVERSON               Remaining      4\n",
      "JOSHUA REA                     Remaining      4\n",
      "MERRILL ANDERSON               Remaining      4\n",
      "BILL KAHN                      Remaining      4\n",
      "JOHN LESLIE HARTWIG            Remaining      4\n",
      "EDMUND BERNARD BRUYERE         Remaining      4\n",
      "JAMES \"JIMMY\" L. STROUD, JR.   Remaining      4\n",
      "RAHN V. WORKCUFF              Eliminated      4\n",
      "BOB \"AGAIN\" CARNEY JR         Eliminated      3\n",
      "CYD GORMAN                    Eliminated      2\n",
      "JOHN CHARLES WILSON           Eliminated      1\n",
      "\n",
      "Round 5\n",
      "\n",
      "Winners: ()\n",
      "Eliminated: (frozenset({'JAMES \"JIMMY\" L. STROUD, JR.'}), frozenset({'RAHN V. WORKCUFF'}), frozenset({'BOB \"AGAIN\" CARNEY JR'}), frozenset({'CYD GORMAN'}), frozenset({'JOHN CHARLES WILSON'}))\n",
      "Remaining: (frozenset({'BETSY HODGES'}), frozenset({'MARK ANDREW'}), frozenset({'DON SAMUELS'}), frozenset({'CAM WINTON'}), frozenset({'JACKIE CHERRYHOMES'}), frozenset({'BOB FINE'}), frozenset({'DAN COHEN'}), frozenset({'STEPHANIE WOODRUFF'}), frozenset({'MARK V ANDERSON'}), frozenset({'DOUG MANN'}), frozenset({'OLE SAVIOR'}), frozenset({'ABDUL M RAHAMAN \"THE ROCK\"'}), frozenset({'ALICIA K. BENNETT'}), frozenset({'JAMES EVERETT'}), frozenset({'CAPTAIN JACK SPARROW'}), frozenset({'TONY LANE'}), frozenset({'MIKE GOULD'}), frozenset({'JAYMIE KELLY'}), frozenset({'KURTIS W. HANNA'}), frozenset({'CHRISTOPHER CLARK'}), frozenset({'CHRISTOPHER ROBIN ZIMMERMAN'}), frozenset({'JEFFREY ALAN WAGNER'}), frozenset({'NEAL BAXTER'}), frozenset({'TROY BENJEGERDES'}), frozenset({'GREGG A. IVERSON'}), frozenset({'MERRILL ANDERSON'}), frozenset({'JOSHUA REA'}), frozenset({'BILL KAHN'}), frozenset({'JOHN LESLIE HARTWIG'}), frozenset({'EDMUND BERNARD BRUYERE'}))\n",
      "                                  Status  Round\n",
      "BETSY HODGES                   Remaining      5\n",
      "MARK ANDREW                    Remaining      5\n",
      "DON SAMUELS                    Remaining      5\n",
      "CAM WINTON                     Remaining      5\n",
      "JACKIE CHERRYHOMES             Remaining      5\n",
      "BOB FINE                       Remaining      5\n",
      "DAN COHEN                      Remaining      5\n",
      "STEPHANIE WOODRUFF             Remaining      5\n",
      "MARK V ANDERSON                Remaining      5\n",
      "DOUG MANN                      Remaining      5\n",
      "OLE SAVIOR                     Remaining      5\n",
      "ABDUL M RAHAMAN \"THE ROCK\"     Remaining      5\n",
      "ALICIA K. BENNETT              Remaining      5\n",
      "JAMES EVERETT                  Remaining      5\n",
      "CAPTAIN JACK SPARROW           Remaining      5\n",
      "TONY LANE                      Remaining      5\n",
      "MIKE GOULD                     Remaining      5\n",
      "JAYMIE KELLY                   Remaining      5\n",
      "KURTIS W. HANNA                Remaining      5\n",
      "CHRISTOPHER CLARK              Remaining      5\n",
      "CHRISTOPHER ROBIN ZIMMERMAN    Remaining      5\n",
      "JEFFREY ALAN WAGNER            Remaining      5\n",
      "NEAL BAXTER                    Remaining      5\n",
      "TROY BENJEGERDES               Remaining      5\n",
      "GREGG A. IVERSON               Remaining      5\n",
      "MERRILL ANDERSON               Remaining      5\n",
      "JOSHUA REA                     Remaining      5\n",
      "BILL KAHN                      Remaining      5\n",
      "JOHN LESLIE HARTWIG            Remaining      5\n",
      "EDMUND BERNARD BRUYERE         Remaining      5\n",
      "JAMES \"JIMMY\" L. STROUD, JR.  Eliminated      5\n",
      "RAHN V. WORKCUFF              Eliminated      4\n",
      "BOB \"AGAIN\" CARNEY JR         Eliminated      3\n",
      "CYD GORMAN                    Eliminated      2\n",
      "JOHN CHARLES WILSON           Eliminated      1\n",
      "\n"
     ]
    }
   ],
   "source": [
    "minneapolis_profile = load_ranking_csv(\"mn_2013_cast_vote_record.csv\", rank_cols=[0,1,2], heade_row=0)\n",
    "minneapolis_profile = condense_profile(remove_repeated_candidates(remove_cand([\"undervote\", \"overvote\", \"UWI\"], minneapolis_profile)))\n",
    "\n",
    "minn_election = STV(profile=minneapolis_profile, m=1)\n",
    "\n",
    "for i in range(1, 6):\n",
    "    print(f\"Round {i}\\n\")\n",
    "    # the winners up to the current round\n",
    "    print(\"Winners:\", minn_election.get_elected(i))\n",
    "\n",
    "    # the eliminated candidates up to the current round\n",
    "    print(\"Eliminated:\", minn_election.get_eliminated(i))\n",
    "\n",
    "    # the remaining candidates, sorted by first-place votes\n",
    "    print(\"Remaining:\", minn_election.get_remaining(i))\n",
    "\n",
    "    # the same information as a df\n",
    "    print(minn_election.get_status_df(i))\n",
    "\n",
    "    print()"
   ]
  },
  {
   "cell_type": "markdown",
   "metadata": {
    "id": "Hvr476McWgwX"
   },
   "source": [
    "## Conclusion\n",
    "There are many different possible election methods, both for choosing a single seat or multiple seats. `VoteKit` has a host of built-in election methods, as well as the functionality to let you create your own kind of election. You have been introduced to the STV and Borda elections and learned about the `Election` object. This should allow you to model any kind of elections you see in the real world, including rules that have not yet been implemented in `VoteKit`."
   ]
  },
  {
   "cell_type": "markdown",
   "metadata": {
    "id": "D6NdYJ9GPVOO"
   },
   "source": [
    "### Further Prompts: Creating your own election system\n",
    "\n",
    "`VoteKit` can't be comprehensive in terms of possible election rules. However, with the `Election` and `ElectionState` classes, you can create your own. Let's create a bit of a silly example; to elect $m$ seats, at each stage of the election we randomly choose one candidate to elect. Most of the methods are handled by the `RankingElection` class, so we really only need to define how a step works, and how to know when it's over."
   ]
  },
  {
   "cell_type": "code",
   "execution_count": 14,
   "metadata": {
    "id": "UsKmLHFzQKGM"
   },
   "outputs": [],
   "source": [
    "from votekit.elections import RankingElection, ElectionState\n",
    "from votekit.cleaning import remove_cand\n",
    "import random\n",
    "\n",
    "\n",
    "class RandomWinners(RankingElection):\n",
    "    \"\"\"\n",
    "    Simulates an election where we randomly choose winners at each stage.\n",
    "\n",
    "    Args:\n",
    "        profile (PreferenceProfile): Profile to run election on.\n",
    "        m (int, optional): Number of seats to elect.\n",
    "    \"\"\"\n",
    "\n",
    "    def __init__(self, profile: PreferenceProfile, m: int = 1):\n",
    "        # the super method says call the RankingElection class\n",
    "        self.m = m\n",
    "        super().__init__(profile)\n",
    "\n",
    "    def _is_finished(self) -> bool:\n",
    "        \"\"\"\n",
    "        Determines if another round is needed.\n",
    "\n",
    "        Returns:\n",
    "            bool: True if number of seats has been met, False otherwise.\n",
    "        \"\"\"\n",
    "        # need to unpack list of sets\n",
    "        elected = [c for s in self.get_elected() for c in s]\n",
    "\n",
    "        if len(elected) == self.m:\n",
    "            return True\n",
    "\n",
    "        return False\n",
    "\n",
    "    def _run_step(\n",
    "        self, profile: PreferenceProfile, prev_state: ElectionState, store_states=False\n",
    "    ) -> PreferenceProfile:\n",
    "        \"\"\"\n",
    "        Run one step of an election from the given profile and previous state.\n",
    "\n",
    "        Args:\n",
    "            profile (PreferenceProfile): Profile of ballots.\n",
    "            prev_state (ElectionState): The previous ElectionState.\n",
    "            store_states (bool, optional): True if `self.election_states` should be updated with the\n",
    "                ElectionState generated by this round. This should only be True when used by\n",
    "                `self._run_election()`. Defaults to False.\n",
    "\n",
    "        Returns:\n",
    "            PreferenceProfile: The profile of ballots after the round is completed.\n",
    "        \"\"\"\n",
    "\n",
    "        elected_cand = random.choice(profile.candidates)\n",
    "        new_profile = remove_cand(elected_cand, profile)\n",
    "\n",
    "        # we only store the states the first time an election is run,\n",
    "        # but this is all handled by the other methods of the class\n",
    "        if store_states:\n",
    "            self.election_states.append(\n",
    "                ElectionState(\n",
    "                    round_number=prev_state.round_number + 1,\n",
    "                    remaining=(frozenset(new_profile.candidates),),\n",
    "                    elected=(frozenset(elected_cand),),\n",
    "                )\n",
    "            )\n",
    "\n",
    "        return new_profile"
   ]
  },
  {
   "cell_type": "code",
   "execution_count": 15,
   "metadata": {
    "id": "H1yqeXnlRbfV"
   },
   "outputs": [],
   "source": [
    "candidates = [\"A\", \"B\", \"C\", \"D\", \"E\", \"F\"]\n",
    "profile = bg.ImpartialCulture(candidates=candidates).generate_profile(1000)\n",
    "\n",
    "election = RandomWinners(profile=profile, m=3)"
   ]
  },
  {
   "cell_type": "code",
   "execution_count": 16,
   "metadata": {
    "id": "6-JzyjToRqFK"
   },
   "outputs": [
    {
     "name": "stdout",
     "output_type": "stream",
     "text": [
      "      Status  Round\n",
      "F    Elected      1\n",
      "B    Elected      2\n",
      "C    Elected      3\n",
      "A  Remaining      3\n",
      "E  Remaining      3\n",
      "D  Remaining      3\n"
     ]
    }
   ],
   "source": [
    "print(election)"
   ]
  },
  {
   "cell_type": "markdown",
   "metadata": {
    "id": "1EdvPv0H1KbG"
   },
   "source": [
    "### **Try it yourself**\n",
    "\n",
    "> Create an election class called `AlphabeticalElection` that elects a number of candidates decided by the user simply based on alphabetical order. You mind find it helpful to use the following code which sorts a list of strings:\n",
    "\n"
   ]
  },
  {
   "cell_type": "code",
   "execution_count": 17,
   "metadata": {},
   "outputs": [
    {
     "name": "stdout",
     "output_type": "stream",
     "text": [
      "['apple', 'banana', 'grape', 'orange']\n"
     ]
    }
   ],
   "source": [
    "# Original list of strings\n",
    "original_list = [\"banana\", \"apple\", \"grape\", \"orange\"]\n",
    "\n",
    "# Alphabetically sorted list\n",
    "sorted_list = sorted(original_list)\n",
    "\n",
    "# Print the sorted list\n",
    "print(sorted_list)"
   ]
  },
  {
   "cell_type": "code",
   "execution_count": 18,
   "metadata": {
    "id": "bR7z7Vwz1KNs"
   },
   "outputs": [],
   "source": [
    "class AlphabeticaElection(RankingElection):\n",
    "    \"\"\"\n",
    "    Simulates an election where we choose winners alphabetically at each stage.\n",
    "\n",
    "    Args:\n",
    "        profile (PreferenceProfile): Profile to run election on.\n",
    "        m (int, optional): Number of seats to elect.\n",
    "    \"\"\"\n",
    "\n",
    "    def __init__(self, profile: PreferenceProfile, m: int = 1):\n",
    "        # the super method says call the RankingElection class\n",
    "        self.m = m\n",
    "        super().__init__(profile)\n",
    "\n",
    "    def _is_finished(self) -> bool:\n",
    "        \"\"\"\n",
    "        Determines if another round is needed.\n",
    "\n",
    "        Returns:\n",
    "            bool: True if number of seats has been met, False otherwise.\n",
    "        \"\"\"\n",
    "        # need to unpack list of sets\n",
    "        elected = [c for s in self.get_elected() for c in s]\n",
    "\n",
    "        if len(elected) == self.m:\n",
    "            return True\n",
    "\n",
    "        return False\n",
    "\n",
    "    def _run_step(\n",
    "        self, profile: PreferenceProfile, prev_state: ElectionState, store_states=False\n",
    "    ) -> PreferenceProfile:\n",
    "        \"\"\"\n",
    "        Run one step of an election from the given profile and previous state.\n",
    "\n",
    "        Args:\n",
    "            profile (PreferenceProfile): Profile of ballots.\n",
    "            prev_state (ElectionState): The previous ElectionState.\n",
    "            store_states (bool, optional): True if `self.election_states` should be updated with the\n",
    "                ElectionState generated by this round. This should only be True when used by\n",
    "                `self._run_election()`. Defaults to False.\n",
    "\n",
    "        Returns:\n",
    "            PreferenceProfile: The profile of ballots after the round is completed.\n",
    "        \"\"\"\n",
    "\n",
    "        pass"
   ]
  }
 ],
 "metadata": {
  "colab": {
   "provenance": []
  },
  "kernelspec": {
   "display_name": ".venv",
   "language": "python",
   "name": "python3"
  },
  "language_info": {
   "codemirror_mode": {
    "name": "ipython",
    "version": 3
   },
   "file_extension": ".py",
   "mimetype": "text/x-python",
   "name": "python",
   "nbconvert_exporter": "python",
   "pygments_lexer": "ipython3",
   "version": "3.13.5"
  }
 },
 "nbformat": 4,
 "nbformat_minor": 0
}
